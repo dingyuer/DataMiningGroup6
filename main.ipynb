{
 "cells": [
  {
   "cell_type": "code",
   "execution_count": null,
   "metadata": {},
   "outputs": [],
   "source": [
    "import pandas as pd\n",
    "import matplotlib.pyplot as plt\n",
    "from IDK2 import *\n",
    "\n",
    "# 读取CSV文件\n",
    "data = pd.read_csv('csv\\CinCECGTorso_TEST.csv')\n",
    "\n",
    "# 提取标签列\n",
    "labels = data.iloc[:, -1]\n",
    "\n",
    "# 去除最后一列(label)\n",
    "data_without_label = data.iloc[:, :-1]\n",
    "\n",
    "unique_labels = labels.unique()\n",
    "num_colors = len(unique_labels)\n",
    "colors = plt.cm.tab10.colors[:num_colors + 1]\n",
    "\n",
    "print(len(data))"
   ]
  },
  {
   "cell_type": "markdown",
   "metadata": {},
   "source": [
    "## IDK mapping"
   ]
  },
  {
   "cell_type": "code",
   "execution_count": null,
   "metadata": {},
   "outputs": [],
   "source": [
    "# 对data_without_label每一行提取出来，构建(1, dim)的列表\n",
    "list_of_distributions = [[np.array(row).tolist()] for row in data_without_label.values]\n",
    "idk_map = idk_kernel_map(list_of_distributions, 13)"
   ]
  },
  {
   "cell_type": "markdown",
   "metadata": {},
   "source": [
    "## Visualize before clustering"
   ]
  },
  {
   "cell_type": "code",
   "execution_count": null,
   "metadata": {},
   "outputs": [],
   "source": [
    "# 可视化\n",
    "plt.figure(figsize=(10, 6))\n",
    "for i, (_, row) in enumerate(data_without_label.iterrows()):\n",
    "    if i >= 10: # 可视化前10个时间序列\n",
    "        break \n",
    "    label = labels.iloc[i]\n",
    "    color_index = list(unique_labels).index(label)\n",
    "    plt.plot(row, color=colors[color_index])\n",
    "\n",
    "plt.legend(unique_labels, title='Labels')\n",
    "plt.xlabel('Time')\n",
    "plt.ylabel('Value')\n",
    "plt.title('Visualization of Time Series Data')\n",
    "plt.show()"
   ]
  },
  {
   "cell_type": "markdown",
   "metadata": {},
   "source": [
    "## Preprocessing\n"
   ]
  },
  {
   "cell_type": "code",
   "execution_count": null,
   "metadata": {},
   "outputs": [],
   "source": [
    "# DWT\n",
    "import pywt\n",
    "import numpy as np\n",
    "\n",
    "# 假设我们有一个简单的正弦波时间序列数据\n",
    "t = np.linspace(start=0, stop=1, num=200)\n",
    "signal = np.sin(2 * np.pi * 5 * t)\n",
    "print(signal.shape)\n",
    "\n",
    "\n",
    "# 应用DWT，这里使用db1小波，进行1级分解\n",
    "(cA, cD) = pywt.dwt(signal, 'db1')\n",
    "\n",
    "# coefficients是一个二维数组，包含了不同尺度上的小波系数\n",
    "# 我们可以通过查看coefficients数组来了解不同尺度上的信息\n",
    "print(cA.shape, cD.shape)"
   ]
  },
  {
   "cell_type": "markdown",
   "metadata": {},
   "source": [
    "## Reduce dimension"
   ]
  },
  {
   "cell_type": "code",
   "execution_count": null,
   "metadata": {},
   "outputs": [],
   "source": [
    "from sklearn.manifold import TSNE\n",
    "import numpy as np\n",
    "\n",
    "tsne = TSNE(perplexity=3, n_components=2)\n",
    "\n",
    "x = np.array(data_without_label)\n",
    "y = np.array(labels)\n",
    "# y = [0 if y[i] == 1 else 1 for i in range(len(y))]\n",
    "print(y)\n",
    "x_tsne = tsne.fit_transform(x)\n",
    "plt.scatter(x_tsne[:, 0], x_tsne[:, 1], c=y)\n",
    "plt.show()"
   ]
  },
  {
   "cell_type": "markdown",
   "metadata": {},
   "source": [
    "## IK mapping"
   ]
  },
  {
   "cell_type": "code",
   "execution_count": null,
   "metadata": {},
   "outputs": [],
   "source": [
    "ik = iNN_IK(5, 10) # psi and t\n",
    "ik.fit(x_tsne)\n",
    "sparse_representation = ik.fit_transform(x_tsne)\n",
    "sparse_representation = sparse_representation.toarray()"
   ]
  },
  {
   "cell_type": "markdown",
   "metadata": {},
   "source": [
    "## Clustering"
   ]
  },
  {
   "cell_type": "code",
   "execution_count": null,
   "metadata": {},
   "outputs": [],
   "source": [
    "from MyKMeans import *\n",
    "\n",
    "print(C)\n",
    "\n",
    "if C == choose.IDK:\n",
    "    points = idk_map\n",
    "if C == choose.IK:\n",
    "    points = sparse_representation\n",
    "if C == choose.GDK or C == choose.DTW:\n",
    "    points = x\n",
    "else:\n",
    "    points = x_tsne\n",
    "centroids, closestCentroid, points = KMeans(points, k=7, maxIters=25)"
   ]
  },
  {
   "cell_type": "markdown",
   "metadata": {},
   "source": [
    "## Visualize after clustering"
   ]
  },
  {
   "cell_type": "code",
   "execution_count": null,
   "metadata": {},
   "outputs": [],
   "source": [
    "# 创建一个新的matplotlib图形\n",
    "fig = plt.figure(figsize=(12, 6))\n",
    "\n",
    "# 第一个子图：可视化原始点\n",
    "ax1 = fig.add_subplot(121)\n",
    "ax1.set_title('Original Points')\n",
    "ax1.scatter(points[:, 0], points[:, 1], c=y, label='Original Points')\n",
    "\n",
    "# 第二个子图：可视化聚类后的点\n",
    "ax2 = fig.add_subplot(122)\n",
    "ax2.set_title('Points after clustering')\n",
    "unique_clusters, counts_array = np.unique(closestCentroid, return_counts=True)\n",
    "colors = plt.cm.jet(np.linspace(0, 1, len(unique_clusters)))\n",
    "for cluster, color in zip(unique_clusters, colors):\n",
    "    cluster_points = points[closestCentroid == cluster]\n",
    "    ax2.scatter(cluster_points[:, 0], cluster_points[:, 1], c=color, label=f'Cluster {cluster}')\n",
    "\n",
    "# 添加图例到第二个子图\n",
    "ax2.legend()\n",
    "\n",
    "# 设置坐标轴标签\n",
    "ax1.set_xlabel('X Axis')\n",
    "ax1.set_ylabel('Y Axis')\n",
    "ax2.set_xlabel('X Axis')\n",
    "ax2.set_ylabel('Y Axis')\n",
    "\n",
    "# 调整子图间距\n",
    "plt.tight_layout()\n",
    "\n",
    "# 显示图形\n",
    "plt.show()\n"
   ]
  },
  {
   "cell_type": "markdown",
   "metadata": {},
   "source": [
    "## NMI & ARI"
   ]
  },
  {
   "cell_type": "code",
   "execution_count": null,
   "metadata": {},
   "outputs": [],
   "source": [
    "from sklearn.metrics.cluster import normalized_mutual_info_score\n",
    "labels_true = y\n",
    "labels_pred = closestCentroid\n",
    "\n",
    "score = normalized_mutual_info_score(labels_true, labels_pred)\n",
    "print(score)"
   ]
  },
  {
   "cell_type": "code",
   "execution_count": null,
   "metadata": {},
   "outputs": [],
   "source": [
    "from sklearn import metrics\n",
    "labels_true = y\n",
    "labels_pred = closestCentroid\n",
    "\n",
    "score = metrics.adjusted_rand_score(labels_true, labels_pred)\n",
    "print(score) "
   ]
  }
 ],
 "metadata": {
  "kernelspec": {
   "display_name": "base",
   "language": "python",
   "name": "python3"
  },
  "language_info": {
   "codemirror_mode": {
    "name": "ipython",
    "version": 3
   },
   "file_extension": ".py",
   "mimetype": "text/x-python",
   "name": "python",
   "nbconvert_exporter": "python",
   "pygments_lexer": "ipython3",
   "version": "3.9.13"
  }
 },
 "nbformat": 4,
 "nbformat_minor": 2
}
